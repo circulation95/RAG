{
 "cells": [
  {
   "cell_type": "code",
   "execution_count": null,
   "id": "0696aeda",
   "metadata": {},
   "outputs": [],
   "source": [
    "email_conversation = \"\"\"Dear Axone Support Team,\n",
    "\n",
    "We are currently using the VideoViewerNextGen module (v1.8.35) in Ignition Perspective.\n",
    "In our environment, some NVR/CCTV cameras provide streams in H.264, while others randomly switch to H.265 depending on the device or channel settings.\n",
    "\n",
    "At the moment, our pipeline is configured as follows:\n",
    "\n",
    "rtspsrc location=\"%s\" protocols=tcp latency=300 do-rtsp-keep-alive=true retry=10 \\timeout=10000000 tcp-timeout=5000000 ! \\rtph264depay ! h264parse ! avdec_h264 ! videoscale ! videoconvert ! \\x264enc speed-preset=ultrafast tune=zerolatency bitrate=2000 ! \\rtph264pay config-interval=1 pt=96 ! application/x-rtp,media=video,encoding-name=H264,payload=96 ! \\webrtcbin name=webrtcbin bundle-policy=max-bundle\n",
    "This configuration works only when the incoming stream is H.264.\n",
    "However, when the stream is H.265, the pipeline fails (no video is displayed, errors are raised).\n",
    "\n",
    "We would like to ask:\n",
    "\n",
    "Does the VideoViewerNextGen module support automatic codec detection (H.264 vs H.265) within the pipeline?\n",
    "\n",
    "If not, what is the recommended approach when the codec may vary per stream?\n",
    "\n",
    "Should we build a dynamic pipeline (separate branches for H.264 and H.265)?\n",
    "\n",
    "Or is there any built-in option in the module to handle mixed codec environments?\n",
    "\n",
    "Is there a configuration parameter to force transcoding of H.265 → H.264 for WebRTC, since most browsers do not support H.265?\n",
    "\n",
    "We would greatly appreciate your guidance on best practices in this scenario.\n",
    "\n",
    "Best regards,\n",
    "shwang\n",
    "\"\"\""
   ]
  },
  {
   "cell_type": "code",
   "execution_count": null,
   "id": "4f3a24af",
   "metadata": {},
   "outputs": [
    {
     "data": {
      "text/plain": [
       "True"
      ]
     },
     "execution_count": 7,
     "metadata": {},
     "output_type": "execute_result"
    }
   ],
   "source": [
    "from dotenv import load_dotenv\n",
    "\n",
    "load_dotenv()"
   ]
  },
  {
   "cell_type": "code",
   "execution_count": 19,
   "id": "e9366d7b",
   "metadata": {},
   "outputs": [],
   "source": [
    "from pydantic import BaseModel, Field\n",
    "\n",
    "\n",
    "class EmailSummary(BaseModel):\n",
    "    person: str = Field(description=\"이메일을 보낸 사람\")\n",
    "    company: str = Field(description=\"이메일을 보낸 사람의 회사\")\n",
    "    date: str = Field(description=\"이메일을 보낸 날짜\")\n",
    "    time: str = Field(description=\"이메일을 보낸 시간\")\n",
    "    purpose: str = Field(description=\"이메일의 목적\")\n",
    "    subject: str = Field(description=\"메일 제목\")\n",
    "    summary: str = Field(description=\"메일 본문을 요약한 텍스트\")"
   ]
  },
  {
   "cell_type": "code",
   "execution_count": 20,
   "id": "dea871bd",
   "metadata": {},
   "outputs": [],
   "source": [
    "## LCEL 구조\n",
    "\n",
    "# chain = prompt | llm | output_parser"
   ]
  },
  {
   "cell_type": "code",
   "execution_count": 21,
   "id": "2ac886e4",
   "metadata": {},
   "outputs": [],
   "source": [
    "from langchain_openai import ChatOpenAI\n",
    "\n",
    "llm = ChatOpenAI(model_name=\"gpt-4o\", temperature=0)"
   ]
  },
  {
   "cell_type": "code",
   "execution_count": null,
   "id": "b7c749a1",
   "metadata": {},
   "outputs": [],
   "source": [
    "from langchain.output_parsers import PydanticOutputParser\n",
    "\n",
    "output_parser = PydanticOutputParser(pydantic_object=EmailSummary)"
   ]
  },
  {
   "cell_type": "code",
   "execution_count": null,
   "id": "4b3e3038",
   "metadata": {},
   "outputs": [],
   "source": [
    "from langchain_core.prompts import ChatPromptTemplate\n",
    "\n",
    "prompt = ChatPromptTemplate.from_template(\n",
    "    \"\"\"\n",
    "You are a helpful assistant. Please answer the following questions in KOREAN.\n",
    "\n",
    "#QUESTION:\n",
    "다음의 이메일 내용 중에서 주요 내용을 추출해 주세요.\n",
    "\n",
    "#EMAIL CONVERSATION:\n",
    "{email_conversation}\n",
    "\n",
    "#FORMAT:\n",
    "{format}\n",
    "\"\"\"\n",
    ")\n",
    "\n",
    "prompt = prompt.partial(format=output_parser.get_format_instructions())"
   ]
  },
  {
   "cell_type": "code",
   "execution_count": 24,
   "id": "b845c1f8",
   "metadata": {},
   "outputs": [
    {
     "name": "stdout",
     "output_type": "stream",
     "text": [
      "The output should be formatted as a JSON instance that conforms to the JSON schema below.\n",
      "\n",
      "As an example, for the schema {\"properties\": {\"foo\": {\"title\": \"Foo\", \"description\": \"a list of strings\", \"type\": \"array\", \"items\": {\"type\": \"string\"}}}, \"required\": [\"foo\"]}\n",
      "the object {\"foo\": [\"bar\", \"baz\"]} is a well-formatted instance of the schema. The object {\"properties\": {\"foo\": [\"bar\", \"baz\"]}} is not well-formatted.\n",
      "\n",
      "Here is the output schema:\n",
      "```\n",
      "{\"properties\": {\"person\": {\"description\": \"이메일을 보낸 사람\", \"title\": \"Person\", \"type\": \"string\"}, \"company\": {\"description\": \"이메일을 보낸 사람의 회사\", \"title\": \"Company\", \"type\": \"string\"}, \"date\": {\"description\": \"이메일을 보낸 날짜\", \"title\": \"Date\", \"type\": \"string\"}, \"time\": {\"description\": \"이메일을 보낸 시간\", \"title\": \"Time\", \"type\": \"string\"}, \"purpose\": {\"description\": \"이메일의 목적\", \"title\": \"Purpose\", \"type\": \"string\"}, \"subject\": {\"description\": \"메일 제목\", \"title\": \"Subject\", \"type\": \"string\"}, \"summary\": {\"description\": \"메일 본문을 요약한 텍스트\", \"title\": \"Summary\", \"type\": \"string\"}}, \"required\": [\"person\", \"company\", \"date\", \"time\", \"purpose\", \"subject\", \"summary\"]}\n",
      "```\n"
     ]
    }
   ],
   "source": [
    "print(output_parser.get_format_instructions())"
   ]
  },
  {
   "cell_type": "code",
   "execution_count": 14,
   "id": "beefb11a",
   "metadata": {},
   "outputs": [],
   "source": [
    "chain = prompt | llm | output_parser"
   ]
  },
  {
   "cell_type": "code",
   "execution_count": null,
   "id": "6fcce9db",
   "metadata": {},
   "outputs": [],
   "source": [
    "answer = chain.invoke({\"email_conversation\": email_conversation})"
   ]
  },
  {
   "cell_type": "code",
   "execution_count": 29,
   "id": "955de8fc",
   "metadata": {},
   "outputs": [
    {
     "name": "stdout",
     "output_type": "stream",
     "text": [
      "현재 Ignition Perspective에서 VideoViewerNextGen 모듈(v1.8.35)을 사용 중이며, 일부 NVR/CCTV 카메라가 H.264와 H.265 스트림을 제공하고 있습니다. 현재 파이프라인은 H.264 스트림에서만 작동하며, H.265 스트림에서는 실패합니다. VideoViewerNextGen 모듈이 파이프라인 내에서 코덱 자동 감지를 지원하는지, 그렇지 않다면 스트림별로 코덱이 다를 때의 권장 접근 방식은 무엇인지, H.264와 H.265를 위한 동적 파이프라인을 구축해야 하는지, 혼합 코덱 환경을 처리할 수 있는 모듈 내 옵션이 있는지, WebRTC를 위한 H.265 → H.264 트랜스코딩을 강제하는 구성 매개변수가 있는지에 대해 문의드립니다.\n"
     ]
    }
   ],
   "source": [
    "print(answer.summary)"
   ]
  },
  {
   "cell_type": "code",
   "execution_count": 30,
   "id": "5b773f1c",
   "metadata": {},
   "outputs": [
    {
     "name": "stdout",
     "output_type": "stream",
     "text": [
      "VideoViewerNextGen 모듈의 코덱 자동 감지 및 혼합 코덱 환경 처리 방법 문의\n"
     ]
    }
   ],
   "source": [
    "print(answer.purpose)"
   ]
  },
  {
   "cell_type": "code",
   "execution_count": 31,
   "id": "2dfd5809",
   "metadata": {},
   "outputs": [
    {
     "name": "stdout",
     "output_type": "stream",
     "text": [
      "shwang\n"
     ]
    }
   ],
   "source": [
    "print(answer.person)"
   ]
  },
  {
   "cell_type": "code",
   "execution_count": null,
   "id": "5a0808f2",
   "metadata": {},
   "outputs": [],
   "source": []
  }
 ],
 "metadata": {
  "kernelspec": {
   "display_name": "langchain-shwang-py3.11",
   "language": "python",
   "name": "python3"
  },
  "language_info": {
   "codemirror_mode": {
    "name": "ipython",
    "version": 3
   },
   "file_extension": ".py",
   "mimetype": "text/x-python",
   "name": "python",
   "nbconvert_exporter": "python",
   "pygments_lexer": "ipython3",
   "version": "3.11.9"
  }
 },
 "nbformat": 4,
 "nbformat_minor": 5
}
